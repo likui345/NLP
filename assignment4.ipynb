{
 "cells": [
  {
   "cell_type": "code",
   "execution_count": 3,
   "metadata": {},
   "outputs": [],
   "source": [
    "import pandas as pd"
   ]
  },
  {
   "cell_type": "code",
   "execution_count": 1,
   "metadata": {},
   "outputs": [
    {
     "name": "stdout",
     "output_type": "stream",
     "text": [
      " 驱动器 C 中的卷是 OS\n",
      " 卷的序列号是 DA1F-0C49\n",
      "\n",
      " C:\\Users\\likui\\Documents\\python3 的目录\n",
      "\n",
      "2018/11/25  07:25    <DIR>          .\n",
      "2018/11/25  07:25    <DIR>          ..\n",
      "2018/11/25  07:25    <DIR>          .ipynb_checkpoints\n",
      "2018/11/25  07:24            53,152 10k_articles.txt\n",
      "2018/11/25  07:24            55,099 80k.tar.gz\n",
      "2018/11/18  02:40            59,056 assignment1.ipynb\n",
      "2018/11/17  17:14                72 Untitled.ipynb\n",
      "2018/11/17  17:14                 0 untitled.txt\n",
      "2018/11/18  10:31             5,567 Untitled1.ipynb\n",
      "2018/11/25  07:25                72 Untitled2.ipynb\n",
      "               7 个文件        173,018 字节\n",
      "               3 个目录 61,811,466,240 可用字节\n"
     ]
    }
   ],
   "source": [
    "ls"
   ]
  },
  {
   "cell_type": "code",
   "execution_count": 4,
   "metadata": {
    "scrolled": true
   },
   "outputs": [
    {
     "ename": "ParserError",
     "evalue": "Error tokenizing data. C error: Expected 1 fields in line 76, saw 11\n",
     "output_type": "error",
     "traceback": [
      "\u001b[1;31m---------------------------------------------------------------------------\u001b[0m",
      "\u001b[1;31mParserError\u001b[0m                               Traceback (most recent call last)",
      "\u001b[1;32m<ipython-input-4-878d28ea497f>\u001b[0m in \u001b[0;36m<module>\u001b[1;34m()\u001b[0m\n\u001b[1;32m----> 1\u001b[1;33m \u001b[0mnews_content\u001b[0m \u001b[1;33m=\u001b[0m \u001b[0mpd\u001b[0m\u001b[1;33m.\u001b[0m\u001b[0mread_csv\u001b[0m\u001b[1;33m(\u001b[0m\u001b[1;34m'10k_articles.txt'\u001b[0m\u001b[1;33m,\u001b[0m \u001b[0mencoding\u001b[0m\u001b[1;33m=\u001b[0m\u001b[1;34m'gb18030'\u001b[0m\u001b[1;33m)\u001b[0m\u001b[1;33m\u001b[0m\u001b[0m\n\u001b[0m",
      "\u001b[1;32mC:\\MyProgram\\Anaconda3\\lib\\site-packages\\pandas\\io\\parsers.py\u001b[0m in \u001b[0;36mparser_f\u001b[1;34m(filepath_or_buffer, sep, delimiter, header, names, index_col, usecols, squeeze, prefix, mangle_dupe_cols, dtype, engine, converters, true_values, false_values, skipinitialspace, skiprows, nrows, na_values, keep_default_na, na_filter, verbose, skip_blank_lines, parse_dates, infer_datetime_format, keep_date_col, date_parser, dayfirst, iterator, chunksize, compression, thousands, decimal, lineterminator, quotechar, quoting, escapechar, comment, encoding, dialect, tupleize_cols, error_bad_lines, warn_bad_lines, skipfooter, doublequote, delim_whitespace, low_memory, memory_map, float_precision)\u001b[0m\n\u001b[0;32m    676\u001b[0m                     skip_blank_lines=skip_blank_lines)\n\u001b[0;32m    677\u001b[0m \u001b[1;33m\u001b[0m\u001b[0m\n\u001b[1;32m--> 678\u001b[1;33m         \u001b[1;32mreturn\u001b[0m \u001b[0m_read\u001b[0m\u001b[1;33m(\u001b[0m\u001b[0mfilepath_or_buffer\u001b[0m\u001b[1;33m,\u001b[0m \u001b[0mkwds\u001b[0m\u001b[1;33m)\u001b[0m\u001b[1;33m\u001b[0m\u001b[0m\n\u001b[0m\u001b[0;32m    679\u001b[0m \u001b[1;33m\u001b[0m\u001b[0m\n\u001b[0;32m    680\u001b[0m     \u001b[0mparser_f\u001b[0m\u001b[1;33m.\u001b[0m\u001b[0m__name__\u001b[0m \u001b[1;33m=\u001b[0m \u001b[0mname\u001b[0m\u001b[1;33m\u001b[0m\u001b[0m\n",
      "\u001b[1;32mC:\\MyProgram\\Anaconda3\\lib\\site-packages\\pandas\\io\\parsers.py\u001b[0m in \u001b[0;36m_read\u001b[1;34m(filepath_or_buffer, kwds)\u001b[0m\n\u001b[0;32m    444\u001b[0m \u001b[1;33m\u001b[0m\u001b[0m\n\u001b[0;32m    445\u001b[0m     \u001b[1;32mtry\u001b[0m\u001b[1;33m:\u001b[0m\u001b[1;33m\u001b[0m\u001b[0m\n\u001b[1;32m--> 446\u001b[1;33m         \u001b[0mdata\u001b[0m \u001b[1;33m=\u001b[0m \u001b[0mparser\u001b[0m\u001b[1;33m.\u001b[0m\u001b[0mread\u001b[0m\u001b[1;33m(\u001b[0m\u001b[0mnrows\u001b[0m\u001b[1;33m)\u001b[0m\u001b[1;33m\u001b[0m\u001b[0m\n\u001b[0m\u001b[0;32m    447\u001b[0m     \u001b[1;32mfinally\u001b[0m\u001b[1;33m:\u001b[0m\u001b[1;33m\u001b[0m\u001b[0m\n\u001b[0;32m    448\u001b[0m         \u001b[0mparser\u001b[0m\u001b[1;33m.\u001b[0m\u001b[0mclose\u001b[0m\u001b[1;33m(\u001b[0m\u001b[1;33m)\u001b[0m\u001b[1;33m\u001b[0m\u001b[0m\n",
      "\u001b[1;32mC:\\MyProgram\\Anaconda3\\lib\\site-packages\\pandas\\io\\parsers.py\u001b[0m in \u001b[0;36mread\u001b[1;34m(self, nrows)\u001b[0m\n\u001b[0;32m   1034\u001b[0m                 \u001b[1;32mraise\u001b[0m \u001b[0mValueError\u001b[0m\u001b[1;33m(\u001b[0m\u001b[1;34m'skipfooter not supported for iteration'\u001b[0m\u001b[1;33m)\u001b[0m\u001b[1;33m\u001b[0m\u001b[0m\n\u001b[0;32m   1035\u001b[0m \u001b[1;33m\u001b[0m\u001b[0m\n\u001b[1;32m-> 1036\u001b[1;33m         \u001b[0mret\u001b[0m \u001b[1;33m=\u001b[0m \u001b[0mself\u001b[0m\u001b[1;33m.\u001b[0m\u001b[0m_engine\u001b[0m\u001b[1;33m.\u001b[0m\u001b[0mread\u001b[0m\u001b[1;33m(\u001b[0m\u001b[0mnrows\u001b[0m\u001b[1;33m)\u001b[0m\u001b[1;33m\u001b[0m\u001b[0m\n\u001b[0m\u001b[0;32m   1037\u001b[0m \u001b[1;33m\u001b[0m\u001b[0m\n\u001b[0;32m   1038\u001b[0m         \u001b[1;31m# May alter columns / col_dict\u001b[0m\u001b[1;33m\u001b[0m\u001b[1;33m\u001b[0m\u001b[0m\n",
      "\u001b[1;32mC:\\MyProgram\\Anaconda3\\lib\\site-packages\\pandas\\io\\parsers.py\u001b[0m in \u001b[0;36mread\u001b[1;34m(self, nrows)\u001b[0m\n\u001b[0;32m   1846\u001b[0m     \u001b[1;32mdef\u001b[0m \u001b[0mread\u001b[0m\u001b[1;33m(\u001b[0m\u001b[0mself\u001b[0m\u001b[1;33m,\u001b[0m \u001b[0mnrows\u001b[0m\u001b[1;33m=\u001b[0m\u001b[1;32mNone\u001b[0m\u001b[1;33m)\u001b[0m\u001b[1;33m:\u001b[0m\u001b[1;33m\u001b[0m\u001b[0m\n\u001b[0;32m   1847\u001b[0m         \u001b[1;32mtry\u001b[0m\u001b[1;33m:\u001b[0m\u001b[1;33m\u001b[0m\u001b[0m\n\u001b[1;32m-> 1848\u001b[1;33m             \u001b[0mdata\u001b[0m \u001b[1;33m=\u001b[0m \u001b[0mself\u001b[0m\u001b[1;33m.\u001b[0m\u001b[0m_reader\u001b[0m\u001b[1;33m.\u001b[0m\u001b[0mread\u001b[0m\u001b[1;33m(\u001b[0m\u001b[0mnrows\u001b[0m\u001b[1;33m)\u001b[0m\u001b[1;33m\u001b[0m\u001b[0m\n\u001b[0m\u001b[0;32m   1849\u001b[0m         \u001b[1;32mexcept\u001b[0m \u001b[0mStopIteration\u001b[0m\u001b[1;33m:\u001b[0m\u001b[1;33m\u001b[0m\u001b[0m\n\u001b[0;32m   1850\u001b[0m             \u001b[1;32mif\u001b[0m \u001b[0mself\u001b[0m\u001b[1;33m.\u001b[0m\u001b[0m_first_chunk\u001b[0m\u001b[1;33m:\u001b[0m\u001b[1;33m\u001b[0m\u001b[0m\n",
      "\u001b[1;32mpandas\\_libs\\parsers.pyx\u001b[0m in \u001b[0;36mpandas._libs.parsers.TextReader.read\u001b[1;34m()\u001b[0m\n",
      "\u001b[1;32mpandas\\_libs\\parsers.pyx\u001b[0m in \u001b[0;36mpandas._libs.parsers.TextReader._read_low_memory\u001b[1;34m()\u001b[0m\n",
      "\u001b[1;32mpandas\\_libs\\parsers.pyx\u001b[0m in \u001b[0;36mpandas._libs.parsers.TextReader._read_rows\u001b[1;34m()\u001b[0m\n",
      "\u001b[1;32mpandas\\_libs\\parsers.pyx\u001b[0m in \u001b[0;36mpandas._libs.parsers.TextReader._tokenize_rows\u001b[1;34m()\u001b[0m\n",
      "\u001b[1;32mpandas\\_libs\\parsers.pyx\u001b[0m in \u001b[0;36mpandas._libs.parsers.raise_parser_error\u001b[1;34m()\u001b[0m\n",
      "\u001b[1;31mParserError\u001b[0m: Error tokenizing data. C error: Expected 1 fields in line 76, saw 11\n"
     ]
    }
   ],
   "source": [
    "news_content = pd.read_csv('10k_articles.txt', encoding='gb18030')"
   ]
  },
  {
   "cell_type": "code",
   "execution_count": 19,
   "metadata": {
    "scrolled": true
   },
   "outputs": [],
   "source": [
    "filename = '10k_articles.txt'"
   ]
  },
  {
   "cell_type": "code",
   "execution_count": 27,
   "metadata": {},
   "outputs": [],
   "source": [
    "all_content = open(filename,encoding='gb18030',errors='ignore').read()"
   ]
  },
  {
   "cell_type": "code",
   "execution_count": 28,
   "metadata": {},
   "outputs": [
    {
     "data": {
      "text/plain": [
       "53131"
      ]
     },
     "execution_count": 28,
     "metadata": {},
     "output_type": "execute_result"
    }
   ],
   "source": [
    "len(all_content)"
   ]
  },
  {
   "cell_type": "code",
   "execution_count": 29,
   "metadata": {},
   "outputs": [
    {
     "data": {
      "text/plain": [
       "'\\n\\n\\n\\n\\n\\n<!DOCTYPE html>\\n<html lang=\"en\">\\n  <head>\\n    <meta charset=\"utf-8\">\\n  <link rel=\"dns-prefetch\" href=\"https://assets-cdn.github.com\">\\n  <link rel=\"dns-prefetch\" href=\"https://avatars0.githubuser'"
      ]
     },
     "execution_count": 29,
     "metadata": {},
     "output_type": "execute_result"
    }
   ],
   "source": [
    "all_content[:200]"
   ]
  },
  {
   "cell_type": "code",
   "execution_count": 33,
   "metadata": {},
   "outputs": [],
   "source": [
    "from collections import Counter\n"
   ]
  },
  {
   "cell_type": "code",
   "execution_count": 30,
   "metadata": {},
   "outputs": [],
   "source": [
    "ALL_CHARACTER='新华社华盛顿４月１３日电记者林小春寻找外星生命目前最理想的地点可能是土星卫星土卫二上的冰封小世界美国航天局１３日宣布卡西尼探测器在土卫二喷出的羽流中探测到氢气这意味着土卫二具备生命存在的几乎所有已知要素n这项发表在美国科学杂志上的研究显示土卫二羽流中９８是水约１是氢气其余是二氧化碳甲烷和氨等组成的混合物n卡西尼项目科学家琳达施皮尔克当天在网'"
   ]
  },
  {
   "cell_type": "code",
   "execution_count": 63,
   "metadata": {},
   "outputs": [
    {
     "data": {
      "text/plain": [
       "'新华社华盛顿４月１３日电记者林小春寻找外星生命目前最理想的地点可能是土星卫星土卫二上的冰封小世界美国航天局１３日宣布卡西尼探测器在土卫二喷出的羽流中探测到氢气这意味着土卫二具备生命存在的几乎所有已知要素n这项发表在美国科学杂志上的研究显示土卫二羽流中９８是水约１是氢气其余是二氧化碳甲烷和氨等组成的混合物n卡西尼项目科学家琳达施皮尔克当天在网'"
      ]
     },
     "execution_count": 63,
     "metadata": {},
     "output_type": "execute_result"
    }
   ],
   "source": [
    "ALL_CHARACTER"
   ]
  },
  {
   "cell_type": "code",
   "execution_count": 65,
   "metadata": {},
   "outputs": [
    {
     "data": {
      "text/plain": [
       "[('的', 6),\n",
       " ('土', 5),\n",
       " ('卫', 5),\n",
       " ('二', 5),\n",
       " ('是', 4),\n",
       " ('在', 4),\n",
       " ('１', 3),\n",
       " ('星', 3),\n",
       " ('华', 2),\n",
       " ('３', 2),\n",
       " ('日', 2),\n",
       " ('小', 2),\n",
       " ('生', 2),\n",
       " ('命', 2),\n",
       " ('目', 2),\n",
       " ('上', 2),\n",
       " ('美', 2),\n",
       " ('国', 2),\n",
       " ('天', 2),\n",
       " ('卡', 2),\n",
       " ('西', 2),\n",
       " ('尼', 2),\n",
       " ('探', 2),\n",
       " ('测', 2),\n",
       " ('羽', 2),\n",
       " ('流', 2),\n",
       " ('中', 2),\n",
       " ('氢', 2),\n",
       " ('气', 2),\n",
       " ('这', 2),\n",
       " ('n', 2),\n",
       " ('项', 2),\n",
       " ('科', 2),\n",
       " ('学', 2),\n",
       " ('新', 1),\n",
       " ('社', 1),\n",
       " ('盛', 1),\n",
       " ('顿', 1),\n",
       " ('４', 1),\n",
       " ('月', 1),\n",
       " ('电', 1),\n",
       " ('记', 1),\n",
       " ('者', 1),\n",
       " ('林', 1),\n",
       " ('春', 1),\n",
       " ('寻', 1),\n",
       " ('找', 1),\n",
       " ('外', 1),\n",
       " ('前', 1),\n",
       " ('最', 1),\n",
       " ('理', 1),\n",
       " ('想', 1),\n",
       " ('地', 1),\n",
       " ('点', 1),\n",
       " ('可', 1),\n",
       " ('能', 1),\n",
       " ('冰', 1),\n",
       " ('封', 1),\n",
       " ('世', 1),\n",
       " ('界', 1),\n",
       " ('航', 1),\n",
       " ('局', 1),\n",
       " ('宣', 1),\n",
       " ('布', 1),\n",
       " ('器', 1),\n",
       " ('喷', 1),\n",
       " ('出', 1),\n",
       " ('到', 1),\n",
       " ('意', 1),\n",
       " ('味', 1),\n",
       " ('着', 1),\n",
       " ('具', 1),\n",
       " ('备', 1),\n",
       " ('存', 1),\n",
       " ('几', 1),\n",
       " ('乎', 1),\n",
       " ('所', 1),\n",
       " ('有', 1),\n",
       " ('已', 1),\n",
       " ('知', 1),\n",
       " ('要', 1),\n",
       " ('素', 1),\n",
       " ('发', 1),\n",
       " ('表', 1),\n",
       " ('杂', 1),\n",
       " ('志', 1),\n",
       " ('研', 1),\n",
       " ('究', 1),\n",
       " ('显', 1),\n",
       " ('示', 1),\n",
       " ('９', 1),\n",
       " ('８', 1),\n",
       " ('水', 1),\n",
       " ('约', 1),\n",
       " ('其', 1),\n",
       " ('余', 1),\n",
       " ('氧', 1),\n",
       " ('化', 1),\n",
       " ('碳', 1),\n",
       " ('甲', 1),\n",
       " ('烷', 1),\n",
       " ('和', 1),\n",
       " ('氨', 1),\n",
       " ('等', 1),\n",
       " ('组', 1),\n",
       " ('成', 1),\n",
       " ('混', 1),\n",
       " ('合', 1),\n",
       " ('物', 1),\n",
       " ('家', 1),\n",
       " ('琳', 1),\n",
       " ('达', 1),\n",
       " ('施', 1),\n",
       " ('皮', 1),\n",
       " ('尔', 1),\n",
       " ('克', 1),\n",
       " ('当', 1),\n",
       " ('网', 1)]"
      ]
     },
     "execution_count": 65,
     "metadata": {},
     "output_type": "execute_result"
    }
   ],
   "source": [
    "all_character_counts = Counter(ALL_CHARACTER)\n",
    "all_character_counts.most_common()\n",
    "\n"
   ]
  },
  {
   "cell_type": "code",
   "execution_count": 66,
   "metadata": {},
   "outputs": [
    {
     "data": {
      "image/png": "[encoded data removed]",
      "text/plain": [
       "<Figure size 432x288 with 1 Axes>"
      ]
     },
     "metadata": {
      "needs_background": "light"
     },
     "output_type": "display_data"
    }
   ],
   "source": [
    "M = all_character_counts.most_common()[0][1]\n",
    "import  matplotlib.pyplot  as plt\n",
    "M\n",
    "\n",
    "from matplotlib.pyplot import yscale, xscale, title, plot\n",
    "yscale('log'); xscale('log'); title('Frequency of n-th most frequent word and 1/n line.')\n",
    "plot([c for (w, c) in all_character_counts.most_common()])\n",
    "plot([M/i for i in range(1, len(all_character_counts)+1)]);"
   ]
  },
  {
   "cell_type": "code",
   "execution_count": 67,
   "metadata": {},
   "outputs": [
    {
     "data": {
      "text/plain": [
       "1"
      ]
     },
     "execution_count": 67,
     "metadata": {},
     "output_type": "execute_result"
    }
   ],
   "source": [
    "all_character_counts.get('💰', 1)"
   ]
  },
  {
   "cell_type": "code",
   "execution_count": null,
   "metadata": {},
   "outputs": [],
   "source": [
    "def get_probability_from_counts(count):\n",
    "    all_occurences = sum(count.values())\n",
    "    def get_prob(item): \n",
    "        return count[item] / all_occurences\n",
    "    return get_prob\n",
    "\n",
    "get_char_prob = get_probability_from_counts(all_character_counts)\n",
    "\n",
    "def get_char_probability(char): \n",
    "    all_occurences = sum(all_character_counts.values())\n",
    "    return all_character_counts[char] / all_occurences"
   ]
  }
 ],
 "metadata": {
  "kernelspec": {
   "display_name": "Python 3",
   "language": "python",
   "name": "python3"
  },
  "language_info": {
   "codemirror_mode": {
    "name": "ipython",
    "version": 3
   },
   "file_extension": ".py",
   "mimetype": "text/x-python",
   "name": "python",
   "nbconvert_exporter": "python",
   "pygments_lexer": "ipython3",
   "version": "3.7.0"
  }
 },
 "nbformat": 4,
 "nbformat_minor": 2
}
