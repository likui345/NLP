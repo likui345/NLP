{
 "cells": [
  {
   "cell_type": "code",
   "execution_count": 157,
   "metadata": {},
   "outputs": [],
   "source": [
    "grammar = \"\"\"\n",
    "sentence = adj noun verb adj noun2\n",
    "adj = adj_single adj_single | null\n",
    "adj_single = 漂亮的 | 蓝色 | 好看\n",
    "adv = 安静的 | 静静的\n",
    "noun = 猫 | 女人 | 男人\n",
    "verb = adv 看着 | adv 做着\n",
    "noun2 =  桌子 | 皮球\n",
    "\"\"\""
   ]
  },
  {
   "cell_type": "code",
   "execution_count": 160,
   "metadata": {},
   "outputs": [],
   "source": [
    "def build_grammar(grammar_str, split='='):\n",
    "    grammar_pattern = {}\n",
    "    for line in grammar_str.split('\\n'):\n",
    "        if not line: continue\n",
    "        stmt, expr = line.split(split)\n",
    "        grammar_pattern[stmt.strip()] = [e.split() for e in expr.split('|')]\n",
    "    print(grammar_pattern)\n",
    "    return grammar_pattern"
   ]
  },
  {
   "cell_type": "code",
   "execution_count": 161,
   "metadata": {
    "scrolled": true
   },
   "outputs": [
    {
     "name": "stdout",
     "output_type": "stream",
     "text": [
      "{'sentence': [['adj', 'noun', 'verb', 'adj', 'noun2']], 'adj': [['adj_single', 'adj_single'], ['null']], 'adj_single': [['漂亮的'], ['蓝色'], ['好看']], 'adv': [['安静的'], ['静静的']], 'noun': [['猫'], ['女人'], ['男人']], 'verb': [['adv', '看着'], ['adv', '做着']], 'noun2': [['桌子'], ['皮球']]}\n"
     ]
    }
   ],
   "source": [
    "gramma_pattern = build_grammar(grammar)"
   ]
  },
  {
   "cell_type": "code",
   "execution_count": 189,
   "metadata": {},
   "outputs": [],
   "source": [
    "import random\n",
    "def generate(gramma_pattern,target):\n",
    "    if target not in gramma_pattern : return  target\n",
    "    expr = random.choice(gramma_pattern[target])\n",
    "\n",
    "    token = [generate(gramma_pattern,e) for e in expr]\n",
    "\n",
    "    return ''.join( [t for t in token if t != 'null'])\n",
    "\n"
   ]
  },
  {
   "cell_type": "code",
   "execution_count": 191,
   "metadata": {},
   "outputs": [
    {
     "data": {
      "text/plain": [
       "'男人静静的看着桌子'"
      ]
     },
     "execution_count": 191,
     "metadata": {},
     "output_type": "execute_result"
    }
   ],
   "source": [
    "generate(gramma_pattern, 'sentence')"
   ]
  },
  {
   "cell_type": "markdown",
   "metadata": {},
   "source": [
    "# BFS 广度优先搜索 DFS 深度优先搜索\n"
   ]
  },
  {
   "cell_type": "markdown",
   "metadata": {},
   "source": [
    "# BFS 广度优先搜索 DFS 深度优先搜索\n",
    " \n"
   ]
  },
  {
   "cell_type": "code",
   "execution_count": 379,
   "metadata": {},
   "outputs": [],
   "source": [
    "graph = {\n",
    "    'A' :'B B B C', \n",
    "    'B' : 'A C', \n",
    "    'C' : 'A B D E',\n",
    "    'D' : 'C',\n",
    "    'E' : 'C F',\n",
    "    'F' : 'E'\n",
    "}"
   ]
  },
  {
   "cell_type": "code",
   "execution_count": 380,
   "metadata": {},
   "outputs": [],
   "source": [
    "for  node in graph : graph[node] = graph[node].split()"
   ]
  },
  {
   "cell_type": "code",
   "execution_count": 388,
   "metadata": {},
   "outputs": [
    {
     "data": {
      "text/plain": [
       "{'A': ['B', 'B', 'B', 'C'],\n",
       " 'B': ['A', 'C'],\n",
       " 'C': ['A', 'B', 'D', 'E'],\n",
       " 'D': ['C'],\n",
       " 'E': ['C', 'F'],\n",
       " 'F': ['E']}"
      ]
     },
     "execution_count": 388,
     "metadata": {},
     "output_type": "execute_result"
    }
   ],
   "source": [
    "graph"
   ]
  },
  {
   "cell_type": "code",
   "execution_count": 404,
   "metadata": {},
   "outputs": [],
   "source": [
    "visited = []\n",
    "need_visit=['A',]\n",
    "def DFS(graph,need_visit):\n",
    "    while need_visit:\n",
    "        node = need_visit.pop()\n",
    "        if node in visited : \n",
    "            print('{} has been seen'.format(node))\n",
    "            continue\n",
    "        print('I am looking at : {}'.format(node))\n",
    "        need_visit += graph[node]\n",
    "        visited.append(node)\n",
    "        \n",
    "    "
   ]
  },
  {
   "cell_type": "code",
   "execution_count": 405,
   "metadata": {
    "scrolled": true
   },
   "outputs": [
    {
     "name": "stdout",
     "output_type": "stream",
     "text": [
      "I am looking at : A\n",
      "I am looking at : C\n",
      "I am looking at : E\n",
      "I am looking at : F\n",
      "E has been seen\n",
      "C has been seen\n",
      "I am looking at : D\n",
      "C has been seen\n",
      "I am looking at : B\n",
      "C has been seen\n",
      "A has been seen\n",
      "A has been seen\n",
      "B has been seen\n",
      "B has been seen\n",
      "B has been seen\n"
     ]
    }
   ],
   "source": [
    "DFS(graph,need_visit)"
   ]
  },
  {
   "cell_type": "code",
   "execution_count": 414,
   "metadata": {},
   "outputs": [],
   "source": [
    "graph_long = {\n",
    "    '1': '2 7',\n",
    "    '2': '3', \n",
    "    '3': '4', \n",
    "    '4': '5', \n",
    "    '5': '6 10', \n",
    "    '7': '8',\n",
    "    '6': '5',\n",
    "    '8': '9',\n",
    "    '9': '10', \n",
    "    '10': '5 11', \n",
    "    '11': '12',\n",
    "    '12': '11',\n",
    "}"
   ]
  },
  {
   "cell_type": "code",
   "execution_count": 415,
   "metadata": {},
   "outputs": [],
   "source": [
    "for n in graph_long: graph_long[n] = graph_long[n].split()"
   ]
  },
  {
   "cell_type": "code",
   "execution_count": 416,
   "metadata": {},
   "outputs": [
    {
     "data": {
      "image/png": "[encoded data removed]",
      "text/plain": [
       "<Figure size 432x288 with 1 Axes>"
      ]
     },
     "metadata": {},
     "output_type": "display_data"
    }
   ],
   "source": [
    "import networkx\n",
    "import matplotlib.pyplot as plt\n",
    "%matplotlib inline\n",
    "Graph_long = networkx.Graph(graph_long)\n",
    "networkx.draw(Graph_long, with_labels=True)"
   ]
  },
  {
   "cell_type": "code",
   "execution_count": 426,
   "metadata": {},
   "outputs": [],
   "source": [
    "\n",
    "def search(graph,method):\n",
    "    visited = []\n",
    "    need_visit=['A',]\n",
    "    while need_visit:\n",
    "        if method == 'DFS':\n",
    "            node = need_visit.pop()\n",
    "        elif  method == 'BFS':\n",
    "            node = need_visit.pop(0)\n",
    "        if node in visited : \n",
    "            print('{} has been seen'.format(node))\n",
    "            continue\n",
    "        print('I am looking at : {}'.format(node))\n",
    "        need_visit.extend(graph[node])\n",
    "        visited.append(node)"
   ]
  },
  {
   "cell_type": "code",
   "execution_count": 427,
   "metadata": {},
   "outputs": [
    {
     "name": "stdout",
     "output_type": "stream",
     "text": [
      "I am looking at : A\n",
      "I am looking at : C\n",
      "I am looking at : E\n",
      "I am looking at : F\n",
      "E has been seen\n",
      "C has been seen\n",
      "I am looking at : D\n",
      "C has been seen\n",
      "I am looking at : B\n",
      "C has been seen\n",
      "A has been seen\n",
      "A has been seen\n",
      "B has been seen\n",
      "B has been seen\n",
      "B has been seen\n"
     ]
    }
   ],
   "source": [
    "search(graph,'DFS')"
   ]
  },
  {
   "cell_type": "code",
   "execution_count": 428,
   "metadata": {},
   "outputs": [
    {
     "name": "stdout",
     "output_type": "stream",
     "text": [
      "I am looking at : A\n",
      "I am looking at : B\n",
      "B has been seen\n",
      "B has been seen\n",
      "I am looking at : C\n",
      "A has been seen\n",
      "C has been seen\n",
      "A has been seen\n",
      "B has been seen\n",
      "I am looking at : D\n",
      "I am looking at : E\n",
      "C has been seen\n",
      "C has been seen\n",
      "I am looking at : F\n",
      "E has been seen\n"
     ]
    }
   ],
   "source": [
    "search(graph,'BFS')"
   ]
  },
  {
   "cell_type": "markdown",
   "metadata": {},
   "source": [
    "# Mapping"
   ]
  },
  {
   "cell_type": "code",
   "execution_count": 436,
   "metadata": {},
   "outputs": [],
   "source": [
    "BJ = 'Beijing'\n",
    "SZ = 'Shenzhen'\n",
    "GZ = 'Guangzhou'\n",
    "WH = 'Wuhan'\n",
    "HLG = 'Heilongjiang'\n",
    "NY = 'New York City'\n",
    "CM = 'Chiangmai'\n",
    "SG = 'Singapore'\n",
    "\n",
    "air_route = {\n",
    "    BJ : {SZ, GZ, WH, HLG, NY}, \n",
    "    GZ : {WH, BJ, CM, SG},\n",
    "    SZ : {BJ, SG},\n",
    "    WH : {BJ, GZ},\n",
    "    HLG : {BJ},\n",
    "    CM : {GZ},\n",
    "    NY : {BJ}\n",
    "}"
   ]
  },
  {
   "cell_type": "code",
   "execution_count": 437,
   "metadata": {},
   "outputs": [
    {
     "data": {
      "image/png": "[encoded data removed]",
      "text/plain": [
       "<Figure size 432x288 with 1 Axes>"
      ]
     },
     "metadata": {},
     "output_type": "display_data"
    }
   ],
   "source": [
    "air_route = networkx.Graph(air_route)\n",
    "\n",
    "networkx.draw(air_route, with_labels=True)"
   ]
  },
  {
   "cell_type": "code",
   "execution_count": 438,
   "metadata": {},
   "outputs": [],
   "source": [
    "def search_destination(graph, start, destination):\n",
    "    pathes = [[start]]\n",
    "    seen = set()\n",
    "    chosen_pathes = []\n",
    "    while pathes:\n",
    "        path = pathes.pop(0)\n",
    "        frontier = path[-1]\n",
    "        if frontier in seen: continue\n",
    "        # get new lines\n",
    "        \n",
    "        for city in graph[frontier]:\n",
    "            new_path = path + [city]\n",
    "            pathes.append(new_path)\n",
    "            if city == destination: return new_path\n",
    "        \n",
    "        seen.add(frontier)\n",
    "    return chosen_pathes"
   ]
  },
  {
   "cell_type": "code",
   "execution_count": 442,
   "metadata": {},
   "outputs": [
    {
     "data": {
      "text/plain": [
       "['Shenzhen', 'Beijing', 'Guangzhou', 'Chiangmai']"
      ]
     },
     "execution_count": 442,
     "metadata": {},
     "output_type": "execute_result"
    }
   ],
   "source": [
    "search_destination(air_route, SZ, CM)"
   ]
  },
  {
   "cell_type": "code",
   "execution_count": null,
   "metadata": {},
   "outputs": [],
   "source": []
  }
 ],
 "metadata": {
  "kernelspec": {
   "display_name": "Python 3",
   "language": "python",
   "name": "python3"
  },
  "language_info": {
   "codemirror_mode": {
    "name": "ipython",
    "version": 3
   },
   "file_extension": ".py",
   "mimetype": "text/x-python",
   "name": "python",
   "nbconvert_exporter": "python",
   "pygments_lexer": "ipython3",
   "version": "3.7.0"
  }
 },
 "nbformat": 4,
 "nbformat_minor": 2
}
